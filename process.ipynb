{
 "cells": [
  {
   "cell_type": "markdown",
   "metadata": {},
   "source": [
    "## Process\n",
    "\n",
    "My first step was to examine the data links. Had this been a real project, I would have asked for clarification on which data specifically we wanted to use (statement of vote vs supplemental, 1 year vs 5 year census data, etc), as well as the eventual use case for the output.\n",
    "\n",
    "I decided to use my standard [data science setup](https://github.com/jupyter/docker-stacks/tree/master/datascience-notebook): a jupyter notebook and the python library pandas.\n",
    "\n",
    "Because of the nature of both the census data and the webapp that serves it, I downloaded the census data manually. For the election results, I'm fetching the file each time we run, so if the election results were to be updated, our output would be correspondingly updated.\n",
    "\n",
    "As for the ability to manually override results, I've created the `override.json` file, which can be used to change the results before output, as well as add fields, like 'winner'. As an example, I've changed the results for Clinton in Alameda County to 22222222 and declared her the winner.\n",
    "\n",
    "The biggest issue I anticipated was normalizing the county names between the two datasets. This turned out to be as simple as removing `' County, California'` from the census table's `NAME` column.\n",
    "\n",
    "Another issue was getting the voting results data into a more usable format than the less than ideal excel file the state provides, namely only including the rows we care about.\n",
    "\n",
    "Finally, I merged the two datasets by county name, applied the manual overrides, and exported the output as json and csv files. I did some spot checks to verify that everything was working correctly and matched the original data as expected.\n",
    "\n",
    "The notebook can be run interactively, from the command line, or exported as normal python script and made part of a larger codebase.\n",
    "\n",
    "### Improvements I Might Make\n",
    "\n",
    "- There are some weird characters, like carriage returns, in the election results and asterisks and dashes in place of data in the census data. These should be filtered out, and correctly detected as NA.\n",
    "- For simplicity, I'm not including the per county per candidate percentages. They could be included, recomputed here, or on the frontend.\n",
    "- Depending on the use case for the output it might be better to include the census column names directly in the output (e.g. rather than `'S1903_C02_024E'`)\n",
    "- My naive county name normalizing method works for these data, but it's brittle and would fail in other circumstances.\n",
    "- My naming conventions in the notebook code leave a lot to be desired.\n",
    "- There's almost certainly a way to automate the census data download, similar to the way I'm fetching the voting results. On the other hand, that relies on those servers working, so local caching might be worth it as well.\n",
    "- For the manual overrides: updating json isn't the most user friendly and is somewhat error prone, so something closer to a UI might make sense.\n"
   ]
  },
  {
   "cell_type": "code",
   "execution_count": null,
   "metadata": {},
   "outputs": [],
   "source": []
  }
 ],
 "metadata": {
  "kernelspec": {
   "display_name": "Python 3",
   "language": "python",
   "name": "python3"
  },
  "language_info": {
   "codemirror_mode": {
    "name": "ipython",
    "version": 3
   },
   "file_extension": ".py",
   "mimetype": "text/x-python",
   "name": "python",
   "nbconvert_exporter": "python",
   "pygments_lexer": "ipython3",
   "version": "3.6.5"
  }
 },
 "nbformat": 4,
 "nbformat_minor": 2
}
